{
 "cells": [
  {
   "cell_type": "code",
   "execution_count": 1,
   "metadata": {},
   "outputs": [
    {
     "name": "stdout",
     "output_type": "stream",
     "text": [
      "Latest update at 2020-04-10\n",
      "Latest data point at 2020-04-09\n"
     ]
    }
   ],
   "source": [
    "import my_tools as mt\n",
    "import pandas as pd\n",
    "\n",
    "df_cases_daily = mt.read_csv('cases_daily', 'Daily cases')\n",
    "df_cases_3days = mt.read_csv('cases_3days', '3 days average cases')\n",
    "df_cases_weekly = mt.read_csv('cases_weekly', 'Weekly cases weekly')\n",
    "df_cases_total = mt.read_csv('cases_total','Total cases')\n",
    "\n",
    "df_deaths_daily = mt.read_csv('deaths_daily', 'Daily deaths')\n",
    "df_deaths_3days = mt.read_csv('deaths_3days', '3 days average  deaths')\n",
    "df_deaths_weekly = mt.read_csv('deaths_weekly', 'Weekly deaths')\n",
    "df_deaths_total = mt.read_csv('deaths_total', 'Total deaths')\n",
    "\n",
    "\n",
    "df_incidence_daily = mt.read_csv('incidence_daily', 'Daily incidence')\n",
    "df_incidence_3days = mt.read_csv('incidence_3days', '3days incidence')\n",
    "df_incidence_weekly = mt.read_csv('incidence_weekly', 'Weekly incidence')\n",
    "\n",
    "df_thresholds = pd.read_csv('../data/thresholds.csv').set_index('ind')\n",
    "                              \n",
    "df_prevalence = mt.read_csv('prevalence', 'Prevalence')\n",
    "df_mortality = mt.read_csv('mortality', 'Mortality')\n",
    "\n",
    "countries_all = df_cases_daily.columns\n",
    "dates_daily = df_cases_daily.index\n",
    "dates_3days = df_cases_3days.index\n",
    "dates_weekly = df_cases_weekly.index\n",
    "\n",
    "global_all = ['Global', 'Africa', 'Asia', 'Europe', 'North America', 'Oceania', 'South America']\n",
    "\n",
    "latest_date = dates_daily[-1]"
   ]
  },
  {
   "cell_type": "code",
   "execution_count": 17,
   "metadata": {
    "scrolled": false
   },
   "outputs": [
    {
     "data": {
      "text/plain": [
       "True"
      ]
     },
     "execution_count": 17,
     "metadata": {},
     "output_type": "execute_result"
    }
   ],
   "source": [
    "countries = ['Belgium', 'China']\n",
    "\n",
    "x = 0.1\n",
    "x = x*100000\n",
    "\n",
    "isinstance(x, float)"
   ]
  },
  {
   "cell_type": "code",
   "execution_count": null,
   "metadata": {},
   "outputs": [],
   "source": []
  },
  {
   "cell_type": "code",
   "execution_count": null,
   "metadata": {},
   "outputs": [],
   "source": []
  },
  {
   "cell_type": "code",
   "execution_count": null,
   "metadata": {},
   "outputs": [],
   "source": []
  },
  {
   "cell_type": "code",
   "execution_count": null,
   "metadata": {},
   "outputs": [],
   "source": []
  }
 ],
 "metadata": {
  "kernelspec": {
   "display_name": "Python 3",
   "language": "python",
   "name": "python3"
  },
  "language_info": {
   "codemirror_mode": {
    "name": "ipython",
    "version": 3
   },
   "file_extension": ".py",
   "mimetype": "text/x-python",
   "name": "python",
   "nbconvert_exporter": "python",
   "pygments_lexer": "ipython3",
   "version": "3.7.4"
  }
 },
 "nbformat": 4,
 "nbformat_minor": 2
}
