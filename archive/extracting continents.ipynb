{
 "cells": [
  {
   "cell_type": "code",
   "execution_count": 21,
   "metadata": {},
   "outputs": [
    {
     "name": "stdout",
     "output_type": "stream",
     "text": [
      "['Afghanistan', 'Albania', 'Algeria', 'Andorra', 'Angola', 'Anguilla', 'Antigua and Barbuda', 'Argentina', 'Armenia', 'Aruba', 'Australia', 'Austria', 'Azerbaijan', 'Bahamas', 'Bahrain', 'Bangladesh', 'Barbados', 'Belarus', 'Belgium', 'Belize', 'Benin', 'Bermuda', 'Bhutan', 'Bolivia', 'Bonaire', 'Bosnia and Herzegovina', 'Botswana', 'Brazil', 'British Virgin Islands', 'Brunei Darussalam', 'Bulgaria', 'Burkina Faso', 'Burundi', 'Cambodia', 'Cameroon', 'Canada', 'Cape Verde', 'Cases on an international conveyance Japan', 'Cayman Islands', 'Central African Republic', 'Chad', 'Chile', 'China', 'Colombia', 'Congo', 'Costa Rica', 'Cote dIvoire', 'Croatia', 'Cuba', 'CuraÃ§ao', 'Cyprus', 'Czech Republic', 'Democratic Republic of the Congo', 'Denmark', 'Djibouti', 'Dominica', 'Dominican Republic', 'Ecuador', 'Egypt', 'El Salvador', 'Equatorial Guinea', 'Eritrea', 'Estonia', 'Eswatini', 'Ethiopia', 'Falkland Islands (Malvinas)', 'Faroe Islands', 'Fiji', 'Finland', 'France', 'French Polynesia', 'Gabon', 'Gambia', 'Georgia', 'Germany', 'Ghana', 'Gibraltar', 'Greece', 'Greenland', 'Grenada', 'Guam', 'Guatemala', 'Guernsey', 'Guinea', 'Guinea Bissau', 'Guyana', 'Haiti', 'Holy See', 'Honduras', 'Hungary', 'Iceland', 'India', 'Indonesia', 'Iran', 'Iraq', 'Ireland', 'Isle of Man', 'Israel', 'Italy', 'Jamaica', 'Japan', 'Jersey', 'Jordan', 'Kazakhstan', 'Kenya', 'Kosovo', 'Kuwait', 'Kyrgyzstan', 'Laos', 'Latvia', 'Lebanon', 'Liberia', 'Libya', 'Liechtenstein', 'Lithuania', 'Luxembourg', 'Madagascar', 'Malaysia', 'Maldives', 'Mali', 'Malta', 'Mauritania', 'Mauritius', 'Mexico', 'Moldova', 'Monaco', 'Mongolia', 'Montenegro', 'Montserrat', 'Morocco', 'Mozambique', 'Myanmar', 'Namibia', 'Nepal', 'Netherlands', 'New Caledonia', 'New Zealand', 'Nicaragua', 'Niger', 'Nigeria', 'North Macedonia', 'Northern Mariana Islands', 'Norway', 'Oman', 'Pakistan', 'Palestine', 'Panama', 'Papua New Guinea', 'Paraguay', 'Peru', 'Philippines', 'Poland', 'Portugal', 'Puerto Rico', 'Qatar', 'Romania', 'Russia', 'Rwanda', 'Saint Barthelemy', 'Saint Kitts and Nevis', 'Saint Lucia', 'Saint Vincent and the Grenadines', 'San Marino', 'Saudi Arabia', 'Senegal', 'Serbia', 'Seychelles', 'Sierra Leone', 'Singapore', 'Sint Maarten', 'Slovakia', 'Slovenia', 'Somalia', 'South Africa', 'South Korea', 'South Sudan', 'Spain', 'Sri Lanka', 'Sudan', 'Suriname', 'Sweden', 'Switzerland', 'Syria', 'Taiwan', 'Thailand', 'Timor Leste', 'Togo', 'Trinidad and Tobago', 'Tunisia', 'Turkey', 'Turks and Caicos islands', 'Uganda', 'Ukraine', 'United Arab Emirates', 'United Kingdom', 'United Republic of Tanzania', 'United States Virgin Islands', 'United States of America', 'Uruguay', 'Uzbekistan', 'Venezuela', 'Vietnam', 'Zambia', 'Zimbabwe']\n"
     ]
    }
   ],
   "source": [
    "import my_tools as mt\n",
    "\n",
    "df = mt.read_csv('cases_daily', 'cases')\n",
    "countries = df.columns.tolist()\n",
    "countries.sort()\n",
    "print(countries)"
   ]
  },
  {
   "cell_type": "code",
   "execution_count": 35,
   "metadata": {},
   "outputs": [
    {
     "data": {
      "text/plain": [
       "['Zambia', 'Zimbabwe']"
      ]
     },
     "execution_count": 35,
     "metadata": {},
     "output_type": "execute_result"
    }
   ],
   "source": [
    "[i for i in countries if i.startswith('Z')]"
   ]
  },
  {
   "cell_type": "code",
   "execution_count": 43,
   "metadata": {},
   "outputs": [],
   "source": [
    "europe = ['United Kingdom','Ukraine','Switzerland','Sweden','Spain','Slovenia','Slovakia','Serbia','San Marino','Romania', 'Russia','Portugal','Poland','Norway', 'North Macedonia','Netherlands','Monaco','Montenegro','Moldova','Malta','Luxembourg', 'Lithuania','Liechtenstein','Latvia','Kosovo','Kazakhstan', 'Jersey','Italy', 'Isle of Man','Ireland','Azerbaijan','Georgia','Iceland', 'Hungary', 'Holy See','Guernsey', 'Greece', 'Gibraltar', 'Germany', 'France', 'Finland', 'Faroe Islands', 'Estonia','Denmark','Czech Republic', 'Cyprus', 'Croatia', 'Albania', 'Andorra', 'Austria', 'Belarus', 'Belgium', 'Bosnia and Herzegovina', 'Bulgaria']\n",
    "\n",
    "north_america = ['Belize', 'United States of America','United States Virgin Islands','Turks and Caicos islands','Sint Maarten','Saint Vincent and the Grenadines','Saint Lucia','Saint Kitts and Nevis','Saint Barthelemy','Puerto Rico', 'Panama','Nicaragua', 'Montserrat','Mexico', 'Jamaica', 'Honduras', 'Haiti', 'Guatemala', 'Grenada', 'Greenland','El Salvador','Dominican Republic', 'Dominica', 'Cuba', 'Cayman Islands', 'Anguilla', 'Antigua and Barbuda', 'Bahamas', 'Barbados', 'Bermuda', 'British Virgin Islands', 'Canada']\n",
    "\n",
    "south_america = ['Venezuela','Uruguay','Trinidad and Tobago','Suriname','Peru','Paraguay', 'Guyana', 'Falkland Islands (Malvinas)','Ecuador', 'CuraÃ§ao', 'Costa Rica', 'Colombia', 'Chile', 'Argentina', 'Aruba', 'Bolivia', 'Bonaire', 'Brazil']\n",
    "\n",
    "oceania = ['Papua New Guinea','Northern Mariana Islands','New Zealand','New Caledonia','Guam','French Polynesia', 'Fiji','Australia']\n",
    "\n",
    "asia = ['Cases on an international conveyance Japan', 'Vietnam','Uzbekistan', 'United Arab Emirates','Turkey','Timor Leste','Thailand','Taiwan','Syria','Sri Lanka','South Korea','Singapore','Saudi Arabia','Qatar', 'Philippines','Palestine','Pakistan','Oman', 'Nepal','Myanmar', 'Mongolia','Maldives','Malaysia','Lebanon','Laos','Kyrgyzstan', 'Kuwait','Jordan', 'Japan', 'Israel','Iraq','Iran','Indonesia','India','China', 'Afghanistan', 'Armenia', 'Bahrain', 'Bangladesh', 'Bhutan', 'Brunei Darussalam', 'Cambodia']\n",
    "\n",
    "afrika = ['Niger', 'Nigeria', 'Zimbabwe','Zambia','United Republic of Tanzania','Uganda','Tunisia','Togo','Sudan','South Sudan','South Africa','Somalia','Sierra Leone','Seychelles', 'Senegal','Rwanda', 'Namibia','Mozambique','Morocco','Mauritius','Mauritania','Mali','Madagascar','Libya','Liberia', 'Kenya','Guinea Bissau','Guinea', 'Ghana', 'Gambia', 'Gabon','Ethiopia', 'Eswatini','Eritrea','Equatorial Guinea','Egypt', 'Djibouti', 'Democratic Republic of the Congo','Cote dIvoire', 'Congo', 'Chad', 'Central African Republic', 'Algeria', 'Angola', 'Benin', 'Botswana', 'Burkina Faso', 'Burundi', 'Cameroon', 'Cape Verde']"
   ]
  },
  {
   "cell_type": "code",
   "execution_count": 45,
   "metadata": {},
   "outputs": [
    {
     "name": "stdout",
     "output_type": "stream",
     "text": [
      "204\n",
      "204\n"
     ]
    }
   ],
   "source": []
  },
  {
   "cell_type": "code",
   "execution_count": null,
   "metadata": {},
   "outputs": [],
   "source": []
  }
 ],
 "metadata": {
  "kernelspec": {
   "display_name": "Python 3",
   "language": "python",
   "name": "python3"
  },
  "language_info": {
   "codemirror_mode": {
    "name": "ipython",
    "version": 3
   },
   "file_extension": ".py",
   "mimetype": "text/x-python",
   "name": "python",
   "nbconvert_exporter": "python",
   "pygments_lexer": "ipython3",
   "version": "3.7.4"
  }
 },
 "nbformat": 4,
 "nbformat_minor": 2
}
